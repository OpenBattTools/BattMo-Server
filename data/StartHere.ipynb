{
 "cells": [
  {
   "cell_type": "code",
   "execution_count": 1,
   "id": "9aea3ea9-409f-4987-9526-a684b4e5cc67",
   "metadata": {},
   "outputs": [
    {
     "name": "stdout",
     "output_type": "stream",
     "text": [
      "warning: using the gnuplot graphics toolkit is discouraged\n",
      "\n",
      "The gnuplot graphics toolkit is not actively maintained and has a number\n",
      "of limitations that are ulikely to be fixed.  Communication with gnuplot\n",
      "uses a one-directional pipe and limited information is passed back to the\n",
      "Octave interpreter so most changes made interactively in the plot window\n",
      "will not be reflected in the graphics properties managed by Octave.  For\n",
      "example, if the plot window is closed with a mouse click, Octave will not\n",
      "be notified and will not update it's internal list of open figure windows.\n",
      "We recommend using the qt toolkit instead.\n",
      "\n",
      "warning: isdir is obsolete; use isfolder or dir_in_loadpath instead\n",
      "Welcome to the Matlab Reservoir Simulation Toolbox (MRST)!\n",
      "You are using the release version 2021b. To download other versions of MRST\n",
      "and view examples and relevant publications, please visit www.mrst.no\n",
      "\n",
      "Useful commands for getting started:\n",
      " - List all introductory examples:   mrstExamples()\n",
      " - List all modules:                 mrstPath('list')\n",
      " - Load modules using GUI:           mrstModule('gui')\n",
      " - Explore all available data sets   mrstDatasetGUI()\n",
      " - List examples of a module:        mrstExamples('ad-blackoil')\n",
      " - Explore modules and publications: mrstExploreModules()\n",
      " - Show all examples in all modules: mrstExamples('all')\n",
      " - Show settings for MRST:           mrstSettings()\n",
      " - Display this message:             mrstStartupMessage()\n",
      "\n",
      "For assistance and discussions about MRST, please visit our mailing list at\n",
      "\twww.sintef.no/projectweb/mrst/forum/ (sintef-mrst@googlegroups.com)\n",
      "For some common queries, see our FAQ: www.sintef.no/projectweb/mrst/faq/\n",
      "warning: creating installation directory /home/jovyan/octave\n",
      "warning: called from\n",
      "    install at line 36 column 5\n",
      "    pkg at line 568 column 9\n",
      "    startupBattMo at line 49 column 13\n",
      "    run at line 78 column 7\n",
      "\n"
     ]
    }
   ],
   "source": [
    "run('BattMo/startupBattMo.m')"
   ]
  },
  {
   "cell_type": "code",
   "execution_count": 3,
   "id": "347e80aa-46be-444c-ae51-43eaaf9f7bbd",
   "metadata": {},
   "outputs": [
    {
     "name": "stdout",
     "output_type": "stream",
     "text": [
      "warning: Octave does not yet use c-accelerated blockInverter\n",
      "warning: called from\n",
      "    getCellFluxOperatorsAll at line 37 column 9\n",
      "    localSetupOperators at line 31 column 30\n",
      "    ElectronicComponent at line 28 column 29\n",
      "    ActiveMaterial at line 37 column 19\n",
      "    setupActiveMaterial at line 72 column 16\n",
      "    Electrode at line 31 column 34\n",
      "    setupElectrode at line 436 column 23\n",
      "    Battery at line 70 column 37\n",
      "    runBattery1D at line 63 column 7\n",
      "    run at line 78 column 7\n",
      "\n",
      "warning: Octave does not yet use c-accelerated blockInverter\n",
      "warning: called from\n",
      "    getCellFluxOperatorsAll at line 37 column 9\n",
      "    localSetupOperators at line 31 column 30\n",
      "    ElectronicComponent at line 28 column 29\n",
      "    CurrentCollector at line 17 column 19\n",
      "    setupCurrentCollector at line 77 column 16\n",
      "    Electrode at line 34 column 40\n",
      "    setupElectrode at line 436 column 23\n",
      "    Battery at line 70 column 37\n",
      "    runBattery1D at line 63 column 7\n",
      "    run at line 78 column 7\n",
      "\n",
      "warning: Octave does not yet use c-accelerated blockInverter\n",
      "warning: called from\n",
      "    getCellFluxOperatorsAll at line 37 column 9\n",
      "    localSetupOperators at line 31 column 30\n",
      "    ElectronicComponent at line 28 column 29\n",
      "    ActiveMaterial at line 37 column 19\n",
      "    setupActiveMaterial at line 72 column 16\n",
      "    Electrode at line 31 column 34\n",
      "    setupElectrode at line 436 column 23\n",
      "    Battery at line 71 column 37\n",
      "    runBattery1D at line 63 column 7\n",
      "    run at line 78 column 7\n",
      "\n",
      "warning: Octave does not yet use c-accelerated blockInverter\n",
      "warning: called from\n",
      "    getCellFluxOperatorsAll at line 37 column 9\n",
      "    localSetupOperators at line 31 column 30\n",
      "    ElectronicComponent at line 28 column 29\n",
      "    CurrentCollector at line 17 column 19\n",
      "    setupCurrentCollector at line 77 column 16\n",
      "    Electrode at line 34 column 40\n",
      "    setupElectrode at line 436 column 23\n",
      "    Battery at line 71 column 37\n",
      "    runBattery1D at line 63 column 7\n",
      "    run at line 78 column 7\n",
      "\n",
      "warning: Octave does not yet use c-accelerated blockInverter\n",
      "warning: called from\n",
      "    getCellFluxOperatorsAll at line 37 column 9\n",
      "    localSetupOperators at line 31 column 30\n",
      "    ElectronicComponent at line 28 column 29\n",
      "    ElectroChemicalComponent at line 14 column 19\n",
      "    Electrolyte at line 33 column 19\n",
      "    setupElectrolyte at line 442 column 25\n",
      "    Battery at line 72 column 37\n",
      "    runBattery1D at line 63 column 7\n",
      "    run at line 78 column 7\n",
      "\n",
      "Solving timestep 001/100:                                            -> 50 Seconds, 399 Milliseconds\n",
      "=====================================================================================================================================================================================================================================================================================================================================\n",
      "| It # | elyte_massCons (cell) | elyte_chargeCons (cell) | ne_am_chargeCons (cell) | ne_am_massCons (cell) | ne_am_sd_soliddiffeq (sdiff) | pe_am_chargeCons (cell) | pe_am_massCons (cell) | pe_am_sd_soliddiffeq (sdiff) | ne_cc_chargeCons (cell) | pe_cc_chargeCons (cell) | energyCons (cell) | EIeq (cell) | controlEq (ctrl) |\n",
      "=====================================================================================================================================================================================================================================================================================================================================\n",
      "|    1 |*0.00e+00              |*0.00e+00                |*0.00e+00                |*0.00e+00              |*0.00e+00                     |*0.00e+00                |*0.00e+00              |*0.00e+00                     |*0.00e+00                |*0.00e+00                |*0.00e+00          | 3.11e+01    | 6.23e+01         |\n",
      "|    2 | 5.35e-01              | 6.62e-01                | 4.36e-01                | 6.71e-01              | 4.36e-01                     | 6.22e-02                | 6.71e-01              | 3.04e-01                     |*3.91e-14                |*2.10e-02                | 2.48e-01          |*1.53e-02    |*0.00e+00         |\n",
      "|    3 |*3.11e-03              |*3.42e-03                |*1.59e-03                |*2.80e-03              |*1.59e-03                     |*1.34e-04                |*2.80e-03              |*8.02e-04                     |*3.91e-14                | 4.20e-02                |*1.79e-03          |*2.67e-02    |*0.00e+00         |\n",
      "|    4 |*9.23e-08              |*8.80e-08                |*1.06e-08                |*5.25e-08              |*1.06e-08                     |*3.66e-09                |*5.08e-08              |*3.60e-08                     |*3.91e-14                |*2.10e-02                |*9.86e-06          |*1.53e-02    |*0.00e+00         |\n",
      "=====================================================================================================================================================================================================================================================================================================================================\n",
      "Solving timestep 002/100: 50 Seconds, 399 Milliseconds               -> 100 Seconds, 799 Milliseconds\n",
      "error: ASSERT errors for:  assert (nvals == numel (prev),['Mismatch in property size: ', fn])\n",
      "\n",
      "  Location  |  Observed  |  Expected  |  Reason\n",
      "     .            O            E         Expected cell, but observed logical\n",
      "error: called from\n",
      "    assert at line 434 column 7\n",
      "    computeTimestep at line 78 column 17\n",
      "    pickTimestep at line 111 column 20\n",
      "    solveTimestep at line 189 column 33\n",
      "    simulateScheduleAD at line 279 column 40\n",
      "    runBattery1D at line 129 column 28\n",
      "    run at line 78 column 7\n"
     ]
    }
   ],
   "source": [
    "run('BattMo/Examples/runBattery1D.m')"
   ]
  },
  {
   "cell_type": "code",
   "execution_count": null,
   "id": "81102b7e-262d-4ffe-8318-f5f2e6cbf7cb",
   "metadata": {},
   "outputs": [],
   "source": []
  }
 ],
 "metadata": {
  "kernelspec": {
   "display_name": "Octave",
   "language": "octave",
   "name": "octave"
  },
  "language_info": {
   "file_extension": ".m",
   "help_links": [
    {
     "text": "GNU Octave",
     "url": "https://www.gnu.org/software/octave/support.html"
    },
    {
     "text": "Octave Kernel",
     "url": "https://github.com/Calysto/octave_kernel"
    },
    {
     "text": "MetaKernel Magics",
     "url": "https://metakernel.readthedocs.io/en/latest/source/README.html"
    }
   ],
   "mimetype": "text/x-octave",
   "name": "octave",
   "version": "6.4.0"
  }
 },
 "nbformat": 4,
 "nbformat_minor": 5
}
